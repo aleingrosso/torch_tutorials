{
 "cells": [
  {
   "cell_type": "code",
   "execution_count": 1,
   "id": "b74d02d5",
   "metadata": {},
   "outputs": [],
   "source": [
    "from __future__ import unicode_literals, print_function, division\n",
    "from io import open\n",
    "import unicodedata\n",
    "import string\n",
    "import re\n",
    "import random\n",
    "\n",
    "# plotting\n",
    "import matplotlib.pyplot as plt\n",
    "# plt.switch_backend('agg')\n",
    "import matplotlib.ticker as ticker\n",
    "import numpy as np\n",
    "\n",
    "import time\n",
    "import math\n",
    "\n",
    "import torch\n",
    "import torch.nn as nn\n",
    "from torch import optim\n",
    "import torch.nn.functional as F\n",
    "\n",
    "device = torch.device(\"cuda\" if torch.cuda.is_available() else \"cpu\")"
   ]
  },
  {
   "cell_type": "markdown",
   "id": "e5da4bae",
   "metadata": {},
   "source": [
    "# Helper functions "
   ]
  },
  {
   "cell_type": "code",
   "execution_count": 2,
   "id": "66c074b8",
   "metadata": {},
   "outputs": [],
   "source": [
    "def showPlot(points):\n",
    "    plt.figure()\n",
    "    fig, ax = plt.subplots()\n",
    "    # this locator puts ticks at regular intervals\n",
    "    loc = ticker.MultipleLocator(base=0.2)\n",
    "    ax.yaxis.set_major_locator(loc)\n",
    "    plt.plot(points)"
   ]
  },
  {
   "cell_type": "code",
   "execution_count": 3,
   "id": "c413cc35",
   "metadata": {},
   "outputs": [],
   "source": [
    "# Measuring time\n",
    "def asMinutes(s):\n",
    "    m = math.floor(s / 60)\n",
    "    s -= m * 60\n",
    "    return '%dm %ds' % (m, s)\n",
    "\n",
    "\n",
    "def timeSince(since, percent):\n",
    "    now = time.time()\n",
    "    s = now - since\n",
    "    es = s / (percent)\n",
    "    rs = es - s\n",
    "    return '%s (- %s)' % (asMinutes(s), asMinutes(rs))"
   ]
  },
  {
   "cell_type": "code",
   "execution_count": 4,
   "id": "61c6696e",
   "metadata": {},
   "outputs": [],
   "source": [
    "# Turn a Unicode string to plain ASCII, thanks to\n",
    "# https://stackoverflow.com/a/518232/2809427\n",
    "def unicodeToAscii(s):\n",
    "    return ''.join(\n",
    "        c for c in unicodedata.normalize('NFD', s)\n",
    "        if unicodedata.category(c) != 'Mn'\n",
    "    )\n",
    "\n",
    "# Lowercase, trim, and remove non-letter characters\n",
    "def normalizeString(s):\n",
    "    s = unicodeToAscii(s.lower().strip())\n",
    "    s = re.sub(r\"([.!?])\", r\" \\1\", s)\n",
    "    s = re.sub(r\"[^a-zA-Z.!?]+\", r\" \", s)\n",
    "    return s"
   ]
  },
  {
   "cell_type": "markdown",
   "id": "34e16be0",
   "metadata": {},
   "source": [
    "# A language class"
   ]
  },
  {
   "cell_type": "code",
   "execution_count": null,
   "id": "8245f00d",
   "metadata": {},
   "outputs": [],
   "source": [
    "# Define a language class where words are indexed\n",
    "SOS_token = 0 # start of sentence\n",
    "EOS_token = 1 # end of sentence\n",
    "\n",
    "class Lang:\n",
    "    def __init__(self, name):\n",
    "        self.name = name\n",
    "        self.word2index = {}\n",
    "        self.word2count = {}\n",
    "        self.index2word = {0: \"SOS\", 1: \"EOS\"}\n",
    "        self.n_words = 2  # Count SOS and EOS\n",
    "\n",
    "    def addSentence(self, sentence):\n",
    "        for word in sentence.split(' '):\n",
    "            self.addWord(word)\n",
    "        \n",
    "    def addWord(self, word):\n",
    "        if word not in self.word2index:\n",
    "            self.word2index[word] = self.n_words\n",
    "            self.word2count[word] = 1\n",
    "            self.index2word[self.n_words] = word\n",
    "            self.n_words += 1\n",
    "        else:\n",
    "            self.word2count[word] += 1\n",
    "            \n",
    "lang = Lang(\"Esperanto\")\n",
    "lang.addSentence(\"Lagrange biscruglia longeramente\")\n",
    "lang.addSentence(\"Lagrange pronunze solopiu\")\n",
    "\n",
    "lang.word2count, lang.word2index, lang.index2word"
   ]
  },
  {
   "cell_type": "code",
   "execution_count": null,
   "id": "fe24a32d",
   "metadata": {},
   "outputs": [],
   "source": [
    "# Utilities to read sentence corpus from file\n",
    "\n",
    "# filtering only small sentence starting with predefined prefixes\n",
    "MAX_LENGTH = 10\n",
    "\n",
    "eng_prefixes = (\n",
    "    \"i am \", \"i m \",\n",
    "    \"he is\", \"he s \",\n",
    "    \"she is\", \"she s \",\n",
    "    \"you are\", \"you re \",\n",
    "    \"we are\", \"we re \",\n",
    "    \"they are\", \"they re \"\n",
    ")\n",
    "\n",
    "def readLangs(lang1, lang2, reverse=False):\n",
    "    print(\"Reading lines...\")\n",
    "\n",
    "    # Read the file and split into lines\n",
    "    lines = open('data/%s-%s.txt' % (lang1, lang2), encoding='utf-8').\\\n",
    "        read().strip().split('\\n')\n",
    "\n",
    "    # Split every line into pairs and normalize\n",
    "    pairs = [[normalizeString(s) for s in l.split('\\t')] for l in lines]\n",
    "\n",
    "    # Reverse pairs, make Lang instances\n",
    "    if reverse:\n",
    "        pairs = [list(reversed(p)) for p in pairs]\n",
    "        input_lang = Lang(lang2)\n",
    "        output_lang = Lang(lang1)\n",
    "    else:\n",
    "        input_lang = Lang(lang1)\n",
    "        output_lang = Lang(lang2)\n",
    "\n",
    "    return input_lang, output_lang, pairs\n",
    "    \n",
    "# filter utility\n",
    "def filterPair(p):\n",
    "    return len(p[0].split(' ')) < MAX_LENGTH and \\\n",
    "        len(p[1].split(' ')) < MAX_LENGTH and \\\n",
    "        p[1].startswith(eng_prefixes)\n",
    "\n",
    "\n",
    "def filterPairs(pairs):\n",
    "    return [pair for pair in pairs if filterPair(pair)]\n",
    "\n",
    "# watch inner workings\n",
    "lang1 = \"eng\"\n",
    "lang2 = \"fra\"\n",
    "input_lang, output_lang, pairs = readLangs(lang1, lang2, reverse=True)\n",
    "pairs"
   ]
  },
  {
   "cell_type": "markdown",
   "id": "bf792401",
   "metadata": {},
   "source": [
    "# Read dataset"
   ]
  },
  {
   "cell_type": "code",
   "execution_count": null,
   "id": "e7b2d5bf",
   "metadata": {},
   "outputs": [],
   "source": [
    "def prepareData(lang1, lang2, reverse=False):\n",
    "    input_lang, output_lang, pairs = readLangs(lang1, lang2, reverse)\n",
    "    print(\"Read %s sentence pairs\" % len(pairs))\n",
    "    pairs = filterPairs(pairs)\n",
    "    print(\"Trimmed to %s sentence pairs\" % len(pairs))\n",
    "    print(\"Counting words...\")\n",
    "    for pair in pairs:\n",
    "        input_lang.addSentence(pair[0])\n",
    "        output_lang.addSentence(pair[1])\n",
    "    print(\"Counted words:\")\n",
    "    print(input_lang.name, input_lang.n_words)\n",
    "    print(output_lang.name, output_lang.n_words)\n",
    "    return input_lang, output_lang, pairs\n",
    "\n",
    "\n",
    "input_lang, output_lang, pairs = prepareData('eng', 'fra', reverse=True)"
   ]
  },
  {
   "cell_type": "code",
   "execution_count": null,
   "id": "e42d555f",
   "metadata": {},
   "outputs": [],
   "source": [
    "print(random.choice(pairs))\n",
    "input_lang.word2count, output_lang.word2count"
   ]
  },
  {
   "cell_type": "markdown",
   "id": "15c74df2",
   "metadata": {},
   "source": [
    "# seq2seq model"
   ]
  },
  {
   "attachments": {
    "seq2seq.png": {
     "image/png": "[encoded data removed]"
    }
   },
   "cell_type": "markdown",
   "id": "ccd1dec8",
   "metadata": {},
   "source": [
    "![seq2seq.png](attachment:seq2seq.png)"
   ]
  },
  {
   "cell_type": "markdown",
   "id": "e67bd3b8",
   "metadata": {},
   "source": [
    "### Encoder model"
   ]
  },
  {
   "attachments": {
    "encoder-network.png": {
     "image/png": "[encoded data removed]"
    }
   },
   "cell_type": "markdown",
   "id": "401398f1",
   "metadata": {},
   "source": [
    "![encoder-network.png](attachment:encoder-network.png)"
   ]
  },
  {
   "cell_type": "markdown",
   "id": "8cbdbaf1",
   "metadata": {},
   "source": [
    "Encoder and decoder will use an Embedding module:"
   ]
  },
  {
   "cell_type": "code",
   "execution_count": null,
   "id": "f4f86623",
   "metadata": {},
   "outputs": [],
   "source": [
    "# an Embedding module containing 5 tensors of size 3\n",
    "num_dict = 5\n",
    "embedding_dim = 3\n",
    "embedding = nn.Embedding(num_dict, embedding_dim)\n",
    "\n",
    "print(\"embedding vectors:\")\n",
    "print(embedding.weight.data)\n",
    "\n",
    "# a batch of 3 samples of 2 indices each\n",
    "print(\"example input:\")\n",
    "input = torch.LongTensor([[0, 1],\n",
    "                          [1, 2],\n",
    "                          [3,4]])\n",
    "embedding(input).data"
   ]
  },
  {
   "cell_type": "code",
   "execution_count": 49,
   "id": "cc8994ca",
   "metadata": {},
   "outputs": [],
   "source": [
    "class EncoderRNN(nn.Module):\n",
    "    ..."
   ]
  },
  {
   "cell_type": "markdown",
   "id": "070637dc",
   "metadata": {},
   "source": [
    "### Simple decoder model"
   ]
  },
  {
   "attachments": {
    "decoder-network.png": {
     "image/png": "[encoded data removed]"
    }
   },
   "cell_type": "markdown",
   "id": "e3e57fe1",
   "metadata": {},
   "source": [
    "![decoder-network.png](attachment:decoder-network.png)"
   ]
  },
  {
   "cell_type": "markdown",
   "id": "d6633827",
   "metadata": {},
   "source": [
    "The decoder takes SOS token as first input while the hidden state is initialized from the last hidden state of the encoder networks. From there on, each output of the decoder gets fed back in as input."
   ]
  },
  {
   "cell_type": "code",
   "execution_count": 50,
   "id": "aa6ba00e",
   "metadata": {},
   "outputs": [],
   "source": [
    "class DecoderRNN(nn.Module):\n",
    "    ..."
   ]
  },
  {
   "cell_type": "markdown",
   "id": "722eebec",
   "metadata": {},
   "source": [
    "# Prepare training data"
   ]
  },
  {
   "cell_type": "code",
   "execution_count": null,
   "id": "d3ab76e2",
   "metadata": {},
   "outputs": [],
   "source": [
    "# get a list of indices of each word in a given sentence\n",
    "def indexesFromSentence(lang, sentence):\n",
    "    return [lang.word2index[word] for word in sentence.split(' ')]\n",
    "\n",
    "i_pair = 30\n",
    "line = pairs[i_pair][0] \n",
    "print(line)\n",
    "indexes = indexesFromSentence(input_lang, line)\n",
    "indexes"
   ]
  },
  {
   "cell_type": "code",
   "execution_count": null,
   "id": "36d0957f",
   "metadata": {},
   "outputs": [],
   "source": [
    "# from a list to a tensor of int\n",
    "def tensorFromSentence(lang, sentence):\n",
    "    indexes = indexesFromSentence(lang, sentence)\n",
    "    indexes.append(EOS_token)\n",
    "    return torch.tensor(indexes, dtype=torch.long, device=device).view(-1, 1)\n",
    "\n",
    "t = tensorFromSentence(input_lang, line)\n",
    "print(\"tensor:\", t)\n",
    "print(\"tensor shape:\", t.shape) # note the added dimension for the bacth"
   ]
  },
  {
   "cell_type": "code",
   "execution_count": 12,
   "id": "321cc025",
   "metadata": {},
   "outputs": [],
   "source": [
    "# get a tensor pair from a pair of sentences\n",
    "def tensorsFromPair(pair):\n",
    "    input_tensor = tensorFromSentence(input_lang, pair[0])\n",
    "    target_tensor = tensorFromSentence(output_lang, pair[1])\n",
    "    return (input_tensor, target_tensor)"
   ]
  },
  {
   "cell_type": "markdown",
   "id": "0d4afccb",
   "metadata": {},
   "source": [
    "# Setup network and optimizers"
   ]
  },
  {
   "cell_type": "code",
   "execution_count": 160,
   "id": "eae4e490",
   "metadata": {},
   "outputs": [],
   "source": [
    "..."
   ]
  },
  {
   "cell_type": "code",
   "execution_count": 161,
   "id": "721cd5a6",
   "metadata": {},
   "outputs": [],
   "source": [
    "# set optimizers and criterion\n",
    "learning_rate = 0.01\n",
    "\n",
    "encoder_optimizer = optim.SGD(encoder.parameters(), lr=learning_rate)\n",
    "decoder_optimizer = optim.SGD(decoder.parameters(), lr=learning_rate)\n",
    "\n",
    "criterion = nn.NLLLoss()"
   ]
  },
  {
   "cell_type": "markdown",
   "id": "4b5d365d",
   "metadata": {},
   "source": [
    "# Train"
   ]
  },
  {
   "cell_type": "code",
   "execution_count": 149,
   "id": "59597051",
   "metadata": {},
   "outputs": [],
   "source": [
    "# A single training update will look like this:\n",
    "    \n",
    "# initial input to decoder will be SOS\n",
    "\n",
    "# run encoder\n",
    "\n",
    "# set context\n",
    "\n",
    "# run decoder (choose teacher forcing randomly with prob. teacher_forcing_ratio)\n",
    "use_teacher_forcing = True if random.random() < teacher_forcing_ratio else False\n",
    "\n",
    "if use_teacher_forcing: # feed the target as the next input\n",
    "\n",
    "else: # use its own predictions as the next input (in this case, stop decoder when it outputs EOS)"
   ]
  }
 ],
 "metadata": {
  "kernelspec": {
   "display_name": "Python 3 (ipykernel)",
   "language": "python",
   "name": "python3"
  },
  "language_info": {
   "codemirror_mode": {
    "name": "ipython",
    "version": 3
   },
   "file_extension": ".py",
   "mimetype": "text/x-python",
   "name": "python",
   "nbconvert_exporter": "python",
   "pygments_lexer": "ipython3",
   "version": "3.9.13"
  }
 },
 "nbformat": 4,
 "nbformat_minor": 5
}
